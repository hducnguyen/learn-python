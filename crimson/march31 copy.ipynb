{
 "cells": [
  {
   "cell_type": "code",
   "execution_count": 8,
   "metadata": {},
   "outputs": [
    {
     "name": "stdout",
     "output_type": "stream",
     "text": [
      "22\n"
     ]
    }
   ],
   "source": [
    "diction = {\n",
    "    \"John\" : 25, \n",
    "    \"Mary\" : 22, \n",
    "    \"Peter\" : 30\n",
    "    }  \n",
    "print(diction[\"Mary\"])"
   ]
  },
  {
   "cell_type": "code",
   "execution_count": 9,
   "metadata": {},
   "outputs": [
    {
     "name": "stdout",
     "output_type": "stream",
     "text": [
      "{'cat': 4, 'dog': 2, 'hamster': 1, 'rabbit': 3}\n"
     ]
    }
   ],
   "source": [
    "diction = {\n",
    "    \"cat\" : 4,\n",
    "    \"dog\" : 2,\n",
    "    \"hamster\" : 1,\n",
    "}\n",
    "diction[\"rabbit\"] = 3\n",
    "print(diction)"
   ]
  },
  {
   "cell_type": "code",
   "execution_count": 10,
   "metadata": {},
   "outputs": [
    {
     "name": "stdout",
     "output_type": "stream",
     "text": [
      "28\n"
     ]
    }
   ],
   "source": [
    "diction = {\n",
    "    \"January\" : 31, \n",
    "    \"Febuary\" : 28, \n",
    "    \"March\" : 31,\n",
    "    \"April\" : 30,\n",
    "    \"May\" : 31,\n",
    "    \"June\" : 30,\n",
    "    \"July\" : 31\n",
    "    }  \n",
    "print(diction[\"Febuary\"])"
   ]
  },
  {
   "cell_type": "code",
   "execution_count": 11,
   "metadata": {},
   "outputs": [
    {
     "ename": "SyntaxError",
     "evalue": "invalid syntax (3631125306.py, line 3)",
     "output_type": "error",
     "traceback": [
      "\u001b[1;36m  Cell \u001b[1;32mIn[11], line 3\u001b[1;36m\u001b[0m\n\u001b[1;33m    \"name\" = \"John\"\u001b[0m\n\u001b[1;37m           ^\u001b[0m\n\u001b[1;31mSyntaxError\u001b[0m\u001b[1;31m:\u001b[0m invalid syntax\n"
     ]
    }
   ],
   "source": [
    "diction = [\n",
    "    {\n",
    "       \"name\" : \"John\",\n",
    "       \"age\" : 31,\n",
    "       \"hometown\" : \"New York\",\n",
    "    },\n",
    "    {\n",
    "       \"name\" : \"Mary\",\n",
    "       \"age\" : 15,\n",
    "       \"hometown\" : \"California\",\n",
    "    },\n",
    "    {\n",
    "       \"name\" : \"Peter\",\n",
    "       \"age\" : 31,\n",
    "       \"hometown\" : \"Brooklyn\",\n",
    "    },\n",
    "]  "
   ]
  }
 ],
 "metadata": {
  "kernelspec": {
   "display_name": "Python 3",
   "language": "python",
   "name": "python3"
  },
  "language_info": {
   "codemirror_mode": {
    "name": "ipython",
    "version": 3
   },
   "file_extension": ".py",
   "mimetype": "text/x-python",
   "name": "python",
   "nbconvert_exporter": "python",
   "pygments_lexer": "ipython3",
   "version": "3.10.5"
  }
 },
 "nbformat": 4,
 "nbformat_minor": 2
}
