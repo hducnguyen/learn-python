{
 "cells": [
  {
   "cell_type": "code",
   "execution_count": 3,
   "metadata": {},
   "outputs": [
    {
     "name": "stdout",
     "output_type": "stream",
     "text": [
      "523.5987755982989\n"
     ]
    }
   ],
   "source": [
    "import math\n",
    "def question1():\n",
    "    r = 5\n",
    "    sphere_volume = 4/3* math.pi* r**3\n",
    "    print(sphere_volume)\n",
    "question1()"
   ]
  },
  {
   "cell_type": "code",
   "execution_count": 15,
   "metadata": {},
   "outputs": [
    {
     "name": "stdout",
     "output_type": "stream",
     "text": [
      "$945.4499999999999\n"
     ]
    }
   ],
   "source": [
    "def question2():\n",
    "    price = 24.95\n",
    "    first_copy = 3\n",
    "    additional_copy = 0.75\n",
    "    copy60 = 0.6 * price * 60 + first_copy + 59 * additional_copy\n",
    "    print(f\"${copy60}\")\n",
    "\n",
    "question2()"
   ]
  },
  {
   "cell_type": "code",
   "execution_count": 10,
   "metadata": {},
   "outputs": [
    {
     "name": "stdout",
     "output_type": "stream",
     "text": [
      "Time reach:  7 hours 30 minutes 6 seconds\n"
     ]
    }
   ],
   "source": [
    "def question3():\n",
    "    easy = 8 * 60 + 15 # in seconds\n",
    "    tempo = 7 * 60 + 12 # in seconds\n",
    "    time_taken = (2 * easy + tempo * 3)\n",
    "    min_taken = time_taken // 60\n",
    "    sec_taken = time_taken % 60 \n",
    "\n",
    "    hour_start = 6\n",
    "    min_start = 52\n",
    "    sec_start = 0\n",
    "\n",
    "    min_reach = min_start + min_taken\n",
    "    hour_reach = hour_start + min_reach // 60\n",
    "    min_reach = min_reach % 60\n",
    "    sec_reach = sec_start + sec_taken\n",
    "    \n",
    "    print(f\"Time reach: {hour_reach} hours {min_reach} minutes {sec_reach} seconds\")\n",
    "question3()"
   ]
  }
 ],
 "metadata": {
  "kernelspec": {
   "display_name": "Python 3",
   "language": "python",
   "name": "python3"
  },
  "language_info": {
   "codemirror_mode": {
    "name": "ipython",
    "version": 3
   },
   "file_extension": ".py",
   "mimetype": "text/x-python",
   "name": "python",
   "nbconvert_exporter": "python",
   "pygments_lexer": "ipython3",
   "version": "3.10.5"
  }
 },
 "nbformat": 4,
 "nbformat_minor": 2
}
